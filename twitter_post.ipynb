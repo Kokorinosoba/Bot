{
 "cells": [
  {
   "cell_type": "markdown",
   "metadata": {},
   "source": [
    "# APIを使うための準備と関数の定義"
   ]
  },
  {
   "cell_type": "code",
   "execution_count": 4,
   "metadata": {},
   "outputs": [],
   "source": [
    "from requests_oauthlib import OAuth1Session\n",
    "import requests\n",
    "import json\n",
    "import random\n",
    "from settings import CONSUMER_KEY, CONSUMER_SECRET, ACCESS_TOKEN, ACCESS_TOKEN_SECRET"
   ]
  },
  {
   "cell_type": "code",
   "execution_count": 3,
   "metadata": {},
   "outputs": [],
   "source": [
    "# Define the Keys and the Access Tokens\n",
    "twitter = OAuth1Session(CONSUMER_KEY, CONSUMER_SECRET, ACCESS_TOKEN, ACCESS_TOKEN_SECRET)\n",
    "docomo = requests.Session()"
   ]
  },
  {
   "cell_type": "code",
   "execution_count": 4,
   "metadata": {},
   "outputs": [],
   "source": [
    "def update(text):\n",
    "    url_update = \"https://api.twitter.com/1.1/statuses/update.json\"\n",
    "    params = {\"status\": text}\n",
    "    req = twitter.post(url_update, params=params)\n",
    "    if req.status_code == 200:\n",
    "        print(\"OK\")\n",
    "    else:\n",
    "        print(\"Error: %d\" % req.status_code)"
   ]
  },
  {
   "cell_type": "code",
   "execution_count": 5,
   "metadata": {},
   "outputs": [],
   "source": [
    "def home_timeline():\n",
    "    url_home_timeline = \"https://api.twitter.com/1.1/statuses/home_timeline.json\"\n",
    "    params = {}\n",
    "    req = twitter.get(url_home_timeline, params=params)\n",
    "    if req.status_code == 200:\n",
    "        timeline = json.loads(req.text)\n",
    "        tweetlist = []\n",
    "        for tweet in timeline:\n",
    "            print(tweet[\"user\"][\"name\"]+\" @\"+tweet[\"user\"][\"screen_name\"]+\" \"+tweet[\"id_str\"]+\": \"+tweet[\"text\"])\n",
    "            tweetlist.append(tweet[\"text\"])\n",
    "    else:\n",
    "        print(\"Error %d\" % req.status_code)"
   ]
  },
  {
   "cell_type": "code",
   "execution_count": 6,
   "metadata": {},
   "outputs": [],
   "source": [
    "def destroy_tweet(tweet_id):\n",
    "    url_rmtweet = \"https://api.twitter.com/1.1/statuses/destroy/\"+tweet_id+\".json\"\n",
    "    params = {\"id\":tweet_id}\n",
    "    req = twitter.post(url_rmtweet, params=params)\n",
    "    if req.status_code == 200:\n",
    "        print(\"OK\")\n",
    "    else:\n",
    "        print(\"Error %d\" % req.status_code)"
   ]
  },
  {
   "cell_type": "code",
   "execution_count": 7,
   "metadata": {},
   "outputs": [],
   "source": [
    "def docomo_api(text):\n",
    "    url_dialogue = \"https://api.apigw.smt.docomo.ne.jp/dialogue/v1/dialogue?APIKEY=\"+API_KEY\n",
    "    params = {\n",
    "        \"utt\": text\n",
    "    }\n",
    "    req = docomo.post(url_dialogue, data=json.dumps(params))\n",
    "    reply = json.loads(req.text)\n",
    "    return reply[\"utt\"]"
   ]
  },
  {
   "cell_type": "code",
   "execution_count": 8,
   "metadata": {},
   "outputs": [],
   "source": [
    "def user_timeline():\n",
    "    url_user_timeline = \"https://api.twitter.com/1.1/statuses/user_timeline.json\"\n",
    "    params = {}\n",
    "    req = twitter.get(url_user_timeline, params=params)\n",
    "    timeline = json.loads(req.text)\n",
    "    idlist = []\n",
    "    if req.status_code == 200:\n",
    "        for tweet in timeline:\n",
    "            print(tweet[\"user\"][\"name\"]+\" @\"+tweet[\"user\"][\"screen_name\"]+\" \"+tweet[\"id_str\"]+\": \"+tweet[\"text\"])\n",
    "            idlist.append(tweet[\"id\"])\n",
    "    else:\n",
    "        print(\"Error %d\" % req.status_code)\n",
    "    return idlist"
   ]
  },
  {
   "cell_type": "code",
   "execution_count": 9,
   "metadata": {},
   "outputs": [],
   "source": [
    "def favorites_list(user_id):\n",
    "    url_favorites_list = \"https://api.twitter.com/1.1/favorites/list.json\"\n",
    "    params = {\"screen_name\": user_id}\n",
    "    req = twitter.get(url_favorites_list, params=params)\n",
    "    timeline = json.loads(req.text)\n",
    "    tweetlist = []\n",
    "    if req.status_code == 200:\n",
    "        for tweet in timeline:\n",
    "            print(tweet[\"user\"][\"name\"]+\" @\"+tweet[\"user\"][\"screen_name\"]+\" \"+tweet[\"user\"][\"id_str\"]+\" \"+tweet[\"id_str\"]+\": \"+tweet[\"text\"])\n",
    "            tweetlist.append(tweet[\"text\"])\n",
    "    else:\n",
    "        print(\"Error %d\" % req.status_code)\n",
    "    return tweetlist"
   ]
  },
  {
   "cell_type": "markdown",
   "metadata": {},
   "source": [
    "# ここから処理を書く"
   ]
  },
  {
   "cell_type": "code",
   "execution_count": 20,
   "metadata": {},
   "outputs": [
    {
     "name": "stdout",
     "output_type": "stream",
     "text": [
      "OK\n",
      "OK\n",
      "OK\n",
      "OK\n",
      "OK\n",
      "OK\n",
      "OK\n",
      "OK\n",
      "OK\n",
      "OK\n",
      "OK\n",
      "OK\n",
      "OK\n",
      "OK\n",
      "OK\n",
      "OK\n",
      "OK\n",
      "OK\n",
      "OK\n",
      "Error: 403\n",
      "OK\n",
      "OK\n",
      "OK\n",
      "OK\n",
      "OK\n",
      "OK\n",
      "OK\n",
      "OK\n",
      "OK\n",
      "OK\n",
      "Error: 403\n",
      "OK\n",
      "OK\n",
      "OK\n",
      "OK\n",
      "OK\n",
      "OK\n",
      "OK\n",
      "OK\n",
      "Error: 403\n",
      "OK\n",
      "OK\n",
      "Error: 403\n",
      "OK\n",
      "OK\n",
      "OK\n",
      "OK\n",
      "Error: 403\n",
      "OK\n",
      "OK\n",
      "OK\n",
      "OK\n",
      "OK\n",
      "OK\n",
      "OK\n",
      "OK\n",
      "OK\n",
      "OK\n",
      "OK\n",
      "Error: 403\n",
      "OK\n",
      "OK\n",
      "OK\n",
      "OK\n",
      "OK\n",
      "OK\n",
      "OK\n",
      "OK\n",
      "OK\n"
     ]
    }
   ],
   "source": [
    "texts = \"\"\"LOREM IPSUM DOLOR SIT AMET, CONSECTETUR ADIPISICING ELIT, SED DO EIUSMOD TEMPOR INCIDIDUNT UT LABORE ET DOLORE MAGNA ALIQUA. UT ENIM AD MINIM VENIAM, QUIS NOSTRUD EXERCITATION ULLAMCO LABORIS NISI UT ALIQUIP EX EA COMMODO CONSEQUAT. DUIS AUTE IRURE DOLOR IN REPREHENDERIT IN VOLUPTATE VELIT ESSE CILLUM DOLORE EU FUGIAT NULLA PARIATUR. EXCEPTEUR SINT OCCAECAT CUPIDATAT NON PROIDENT, SUNT IN CULPA QUI OFFICIA DESERUNT MOLLIT ANIM ID EST LABORUM.\"\"\"\n",
    "for text in texts.split():\n",
    "    text = text.rstrip(\",.\")\n",
    "    update(text)"
   ]
  },
  {
   "cell_type": "code",
   "execution_count": 10,
   "metadata": {},
   "outputs": [
    {
     "name": "stdout",
     "output_type": "stream",
     "text": [
      "ここりん @kokorinosoba 1000889678 1047988913128714240: YouTubeでいいね稼ぎする奴が日本特有のものかと思ってたら、\"September 2018 anybody??\"ってコメントが海外アーティストのミュージックビデオにあって、奴はどこにでも湧くということが判明したので収穫でした。\n",
      "プリンアラモード@☀🐻🦀🐰🐬🌲 🌙🦅 @Purin_a_La_Mode 91969438 1042012726359252992: 一人暮らしの料理スキル https://t.co/0pWMBCCg2Z\n",
      "るってぃメモ @rutty07zbot 939288452499103744 1041831495575293952: 最近音楽は”栞”だと思ってるんです。「この音楽聴いたら当時のあの情景思い出す」ってやつあるじゃないですか。それを利用して、思い出を音楽で栞のように挟むんです。\n",
      "\n",
      "5年後聞いたときに、平成最後の夏を思い出せるように。そのステージを僕にとってエモい日本に変えるってだけです\n",
      "キム・ギニョン @kimginyon 4494758173 1036022630921302017: 前の同人でボツにした漫画です　統一教会 https://t.co/6aZfZxeRBt\n",
      "ほさか @rosemary_0825 852342013697474560 1035861825160503297: 生きていくのってテキトーくらいがいいんだよね、きっと🤔\n",
      "君@夏コミ3日目東ハ38b @kike0358 2409009572 1028451191003303936: はじまりました〜！\n",
      "お待ちしております٩( •̀ω•́ )ﻭ\n",
      " #夏コミ #C94  #アイマス  #デレステ https://t.co/gSiwkghApz\n",
      "yukifrog::ハッカーになりたい @yukifrog 86914435 1024601707051855872: @nauchan0626 まあ結婚自体が趣味みたいなものと言えなくもないけど。\n",
      "坪田 朋 / Basecamp @tsubotax 15452912 1023909212366069760: 時間を作るために意識してること\n",
      "\n",
      "・飲み会にほとんど行かない\n",
      "・対面MTGを減らす\n",
      "・MTGは特定曜日に集中させる\n",
      "・人と会うときは朝カフェ\n",
      "・Slack利用NGの案件は受けない\n",
      "・相性悪そうな案件は断る\n",
      "・移動はほぼタクシー\n",
      "・… https://t.co/lLeCFZaQtq\n",
      "さばぴっぴ-Сабапиппи @saws_skmdrt 178028171 1023455942493396993: @s_soryu @takutsubu ロマンも極意も理論じゃなくて草\n",
      "とまとめこ @tomato_ramen1 907190750936363008 1022869590987005953: 先日礼拝で会ったアメリカ人が\n",
      "「英語では『社会人』に当る言葉がない。大人も子供も社会の一員だから。日本は不思議だね」\n",
      "って話してて、\n",
      "「流暢な日本語で日本社会の本質を突いてくる外国人ほんとにいたんか、Twitterの中だけだと思ってた」\n",
      "って言ってしまった。\n",
      "(g∘f)(n) @bd_gfngfn 557844536 1000360812219744261: （短歌に関して “字餘りの部分は必ず2モーラ目以降に子音のないものがあるので，おそらくそこを直前のモーラと縮約して5や7にして読んでいたのでは” という説あったけれどもこの説に名前ついてるんでしたっけ）\n",
      "こらっぴ @colappy 129536054 995690894425665537: 大学の教職員が50人貸切の予約をドタキャンし炎上\n",
      "→大学の学生さんが代わりに謝罪\n",
      "→大学のホームページにアクセス集中して落ちる\n",
      "\n",
      "…何がすごいって「国際信州学院大学」なんて存在しないし、学生も偽アカウントだし、さらに「うどんや蛞蝓… https://t.co/gVWZYLDnmh\n",
      "Ryoichi KATO @ryo1kato 46334827 995329357869600768: ネットで注文した母の日ギフトが届いたか確認しようとしたら…\n",
      "＿人人人人人人人人人人人＿\n",
      "＞　伝票番号が浮動小数　＜\n",
      "￣Y^Y^Y^Y^Y^Y^Y^Y^Y^Y￣\n",
      "\n",
      "精度が足りなくて元の番号を復元できません。 https://t.co/BkpoFidc8L\n",
      "みやもと春九堂＠不審者 @Shun9do 5221061 994106707075743744: 以前、ロート製薬のとある天才（変態）研究員が「女性特有の甘い匂い」が幻想ではなく現実のものとして存在し、その成分がラクトンC10（ピーチの香り）とラクトンC11（ココナッツの香り）であることを発表しました。検査方法がちょっとヤバか… https://t.co/NiLCxsH34s\n"
     ]
    }
   ],
   "source": [
    "tweetlist = favorites_list(\"kokorinosoba\")"
   ]
  },
  {
   "cell_type": "code",
   "execution_count": 11,
   "metadata": {},
   "outputs": [
    {
     "name": "stdout",
     "output_type": "stream",
     "text": [
      "めぐ @44KB44GQ 1050280752305192961: 今日はいい天気です\n",
      "めぐ @44KB44GQ 988766225391017985: LABORUM\n",
      "めぐ @44KB44GQ 988766223616753664: EST\n",
      "めぐ @44KB44GQ 988766221930708992: ID\n",
      "めぐ @44KB44GQ 988766220345229312: ANIM\n",
      "めぐ @44KB44GQ 988766218973732864: MOLLIT\n",
      "めぐ @44KB44GQ 988766216390000641: DESERUNT\n",
      "めぐ @44KB44GQ 988766214733287424: OFFICIA\n",
      "めぐ @44KB44GQ 988766213281988608: QUI\n",
      "めぐ @44KB44GQ 988766211713331200: CULPA\n",
      "めぐ @44KB44GQ 988766209498800128: SUNT\n",
      "めぐ @44KB44GQ 988766208240439298: PROIDENT\n",
      "めぐ @44KB44GQ 988766206805995520: NON\n",
      "めぐ @44KB44GQ 988766205489037312: CUPIDATAT\n",
      "めぐ @44KB44GQ 988766203836420096: OCCAECAT\n",
      "めぐ @44KB44GQ 988766202531991552: SINT\n",
      "めぐ @44KB44GQ 988766201072381952: EXCEPTEUR\n",
      "めぐ @44KB44GQ 988766199709290496: PARIATUR\n",
      "めぐ @44KB44GQ 988766198358720512: NULLA\n",
      "めぐ @44KB44GQ 988766195699470337: FUGIAT\n",
      "[1050280752305192961, 988766225391017985, 988766223616753664, 988766221930708992, 988766220345229312, 988766218973732864, 988766216390000641, 988766214733287424, 988766213281988608, 988766211713331200, 988766209498800128, 988766208240439298, 988766206805995520, 988766205489037312, 988766203836420096, 988766202531991552, 988766201072381952, 988766199709290496, 988766198358720512, 988766195699470337]\n"
     ]
    },
    {
     "data": {
      "text/plain": [
       "'\\nfor tweet_id in idlist:\\n    destroy_tweet(str(tweet_id))\\n'"
      ]
     },
     "execution_count": 11,
     "metadata": {},
     "output_type": "execute_result"
    }
   ],
   "source": [
    "idlist = user_timeline()\n",
    "print(idlist)\n",
    "\"\"\"\n",
    "for tweet_id in idlist:\n",
    "    destroy_tweet(str(tweet_id))\n",
    "\"\"\""
   ]
  },
  {
   "cell_type": "code",
   "execution_count": 223,
   "metadata": {
    "scrolled": true
   },
   "outputs": [
    {
     "data": {
      "text/plain": [
       "{'contributors': None,\n",
       " 'coordinates': None,\n",
       " 'created_at': 'Sat Dec 23 21:56:15 +0000 2017',\n",
       " 'entities': {'hashtags': [], 'symbols': [], 'urls': [], 'user_mentions': []},\n",
       " 'favorite_count': 0,\n",
       " 'favorited': False,\n",
       " 'geo': None,\n",
       " 'id': 944688127561437184,\n",
       " 'id_str': '944688127561437184',\n",
       " 'in_reply_to_screen_name': None,\n",
       " 'in_reply_to_status_id': None,\n",
       " 'in_reply_to_status_id_str': None,\n",
       " 'in_reply_to_user_id': None,\n",
       " 'in_reply_to_user_id_str': None,\n",
       " 'is_quote_status': False,\n",
       " 'lang': 'ja',\n",
       " 'place': None,\n",
       " 'retweet_count': 0,\n",
       " 'retweeted': False,\n",
       " 'source': '<a href=\"https://www.google.co.jp/\" rel=\"nofollow\">Meg_</a>',\n",
       " 'text': 'んっ',\n",
       " 'truncated': False,\n",
       " 'user': {'contributors_enabled': False,\n",
       "  'created_at': 'Sun Dec 11 14:57:07 +0000 2016',\n",
       "  'default_profile': True,\n",
       "  'default_profile_image': False,\n",
       "  'description': 'Twitter始めました。よろしくです。好きなもの→音楽/読書/お料理/さんぽ/最近はマフラー編んだりしてます',\n",
       "  'entities': {'description': {'urls': []}},\n",
       "  'favourites_count': 26,\n",
       "  'follow_request_sent': False,\n",
       "  'followers_count': 0,\n",
       "  'following': False,\n",
       "  'friends_count': 4,\n",
       "  'geo_enabled': False,\n",
       "  'has_extended_profile': False,\n",
       "  'id': 807962421683884032,\n",
       "  'id_str': '807962421683884032',\n",
       "  'is_translation_enabled': False,\n",
       "  'is_translator': False,\n",
       "  'lang': 'ja',\n",
       "  'listed_count': 0,\n",
       "  'location': '',\n",
       "  'name': 'めぐ',\n",
       "  'notifications': False,\n",
       "  'profile_background_color': 'F5F8FA',\n",
       "  'profile_background_image_url': None,\n",
       "  'profile_background_image_url_https': None,\n",
       "  'profile_background_tile': False,\n",
       "  'profile_banner_url': 'https://pbs.twimg.com/profile_banners/807962421683884032/1481469924',\n",
       "  'profile_image_url': 'http://pbs.twimg.com/profile_images/807964086633758720/q-h1vvDy_normal.jpg',\n",
       "  'profile_image_url_https': 'https://pbs.twimg.com/profile_images/807964086633758720/q-h1vvDy_normal.jpg',\n",
       "  'profile_link_color': '1DA1F2',\n",
       "  'profile_sidebar_border_color': 'C0DEED',\n",
       "  'profile_sidebar_fill_color': 'DDEEF6',\n",
       "  'profile_text_color': '333333',\n",
       "  'profile_use_background_image': True,\n",
       "  'protected': False,\n",
       "  'screen_name': '44KB44GQ',\n",
       "  'statuses_count': 9,\n",
       "  'time_zone': 'Tokyo',\n",
       "  'translator_type': 'none',\n",
       "  'url': None,\n",
       "  'utc_offset': 32400,\n",
       "  'verified': False}}"
      ]
     },
     "execution_count": 223,
     "metadata": {},
     "output_type": "execute_result"
    }
   ],
   "source": [
    "{'created_at': 'Sat Dec 23 21:56:15 +0000 2017', 'id': 944688127561437184, 'id_str': '944688127561437184', 'text': 'んっ', 'truncated': False, 'entities': {'hashtags': [], 'symbols': [], 'user_mentions': [], 'urls': []}, 'source': '<a href=\"https://www.google.co.jp/\" rel=\"nofollow\">Meg_</a>', 'in_reply_to_status_id': None, 'in_reply_to_status_id_str': None, 'in_reply_to_user_id': None, 'in_reply_to_user_id_str': None, 'in_reply_to_screen_name': None, 'user': {'id': 807962421683884032, 'id_str': '807962421683884032', 'name': 'めぐ', 'screen_name': '44KB44GQ', 'location': '', 'description': 'Twitter始めました。よろしくです。好きなもの→音楽/読書/お料理/さんぽ/最近はマフラー編んだりしてます', 'url': None, 'entities': {'description': {'urls': []}}, 'protected': False, 'followers_count': 0, 'friends_count': 4, 'listed_count': 0, 'created_at': 'Sun Dec 11 14:57:07 +0000 2016', 'favourites_count': 26, 'utc_offset': 32400, 'time_zone': 'Tokyo', 'geo_enabled': False, 'verified': False, 'statuses_count': 9, 'lang': 'ja', 'contributors_enabled': False, 'is_translator': False, 'is_translation_enabled': False, 'profile_background_color': 'F5F8FA', 'profile_background_image_url': None, 'profile_background_image_url_https': None, 'profile_background_tile': False, 'profile_image_url': 'http://pbs.twimg.com/profile_images/807964086633758720/q-h1vvDy_normal.jpg', 'profile_image_url_https': 'https://pbs.twimg.com/profile_images/807964086633758720/q-h1vvDy_normal.jpg', 'profile_banner_url': 'https://pbs.twimg.com/profile_banners/807962421683884032/1481469924', 'profile_link_color': '1DA1F2', 'profile_sidebar_border_color': 'C0DEED', 'profile_sidebar_fill_color': 'DDEEF6', 'profile_text_color': '333333', 'profile_use_background_image': True, 'has_extended_profile': False, 'default_profile': True, 'default_profile_image': False, 'following': False, 'follow_request_sent': False, 'notifications': False, 'translator_type': 'none'}, 'geo': None, 'coordinates': None, 'place': None, 'contributors': None, 'is_quote_status': False, 'retweet_count': 0, 'favorite_count': 0, 'favorited': False, 'retweeted': False, 'lang': 'ja'}"
   ]
  }
 ],
 "metadata": {
  "kernelspec": {
   "display_name": "Python 3",
   "language": "python",
   "name": "python3"
  },
  "language_info": {
   "codemirror_mode": {
    "name": "ipython",
    "version": 3
   },
   "file_extension": ".py",
   "mimetype": "text/x-python",
   "name": "python",
   "nbconvert_exporter": "python",
   "pygments_lexer": "ipython3",
   "version": "3.7.0"
  }
 },
 "nbformat": 4,
 "nbformat_minor": 2
}
